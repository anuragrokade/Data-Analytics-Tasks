{
 "cells": [
  {
   "cell_type": "markdown",
   "id": "61786a8d",
   "metadata": {},
   "source": [
    "# Task: Geographic Analysis"
   ]
  },
  {
   "cell_type": "markdown",
   "id": "2b3b5ec7",
   "metadata": {},
   "source": [
    "Plot the locations of restaurants on a map using longitude and latitude coordinates."
   ]
  },
  {
   "cell_type": "code",
   "execution_count": 1,
   "id": "32fdd32a",
   "metadata": {},
   "outputs": [
    {
     "name": "stdout",
     "output_type": "stream",
     "text": [
      "Collecting folium\n",
      "  Downloading folium-0.14.0-py2.py3-none-any.whl (102 kB)\n",
      "     -------------------------------------- 102.3/102.3 kB 3.0 MB/s eta 0:00:00\n",
      "Requirement already satisfied: jinja2>=2.9 in d:\\anaconda python\\lib\\site-packages (from folium) (3.1.2)\n",
      "Collecting branca>=0.6.0\n",
      "  Downloading branca-0.6.0-py3-none-any.whl (24 kB)\n",
      "Requirement already satisfied: numpy in d:\\anaconda python\\lib\\site-packages (from folium) (1.23.5)\n",
      "Requirement already satisfied: requests in d:\\anaconda python\\lib\\site-packages (from folium) (2.28.1)\n",
      "Requirement already satisfied: MarkupSafe>=2.0 in d:\\anaconda python\\lib\\site-packages (from jinja2>=2.9->folium) (2.1.1)\n",
      "Requirement already satisfied: certifi>=2017.4.17 in d:\\anaconda python\\lib\\site-packages (from requests->folium) (2022.12.7)\n",
      "Requirement already satisfied: idna<4,>=2.5 in d:\\anaconda python\\lib\\site-packages (from requests->folium) (3.4)\n",
      "Requirement already satisfied: charset-normalizer<3,>=2 in d:\\anaconda python\\lib\\site-packages (from requests->folium) (2.0.4)\n",
      "Requirement already satisfied: urllib3<1.27,>=1.21.1 in d:\\anaconda python\\lib\\site-packages (from requests->folium) (1.26.14)\n",
      "Installing collected packages: branca, folium\n",
      "Successfully installed branca-0.6.0 folium-0.14.0\n",
      "Note: you may need to restart the kernel to use updated packages.\n"
     ]
    }
   ],
   "source": [
    "pip install folium"
   ]
  },
  {
   "cell_type": "code",
   "execution_count": 2,
   "id": "8e9b65bd",
   "metadata": {},
   "outputs": [],
   "source": []
  },
  {
   "cell_type": "code",
   "execution_count": 3,
   "id": "93bbd448",
   "metadata": {},
   "outputs": [],
   "source": []
  },
  {
   "cell_type": "code",
   "execution_count": 6,
   "id": "d7156207-37d9-45af-8693-01733b4af182",
   "metadata": {},
   "outputs": [],
   "source": []
  },
  {
   "cell_type": "code",
   "execution_count": 5,
   "id": "963fccfe",
   "metadata": {},
   "outputs": [
    {
     "name": "stdout",
     "output_type": "stream",
     "text": [
      "Collecting folium\n",
      "  Using cached folium-0.14.0-py2.py3-none-any.whl (102 kB)\n",
      "Collecting branca>=0.6.0 (from folium)\n",
      "  Using cached branca-0.6.0-py3-none-any.whl (24 kB)\n",
      "Requirement already satisfied: jinja2>=2.9 in d:\\anaconda navigator\\lib\\site-packages (from folium) (3.1.2)\n",
      "Requirement already satisfied: numpy in d:\\anaconda navigator\\lib\\site-packages (from folium) (1.24.3)\n",
      "Requirement already satisfied: requests in d:\\anaconda navigator\\lib\\site-packages (from folium) (2.31.0)\n",
      "Requirement already satisfied: MarkupSafe>=2.0 in d:\\anaconda navigator\\lib\\site-packages (from jinja2>=2.9->folium) (2.1.1)\n",
      "Requirement already satisfied: charset-normalizer<4,>=2 in d:\\anaconda navigator\\lib\\site-packages (from requests->folium) (2.0.4)\n",
      "Requirement already satisfied: idna<4,>=2.5 in d:\\anaconda navigator\\lib\\site-packages (from requests->folium) (3.4)\n",
      "Requirement already satisfied: urllib3<3,>=1.21.1 in d:\\anaconda navigator\\lib\\site-packages (from requests->folium) (1.26.16)\n",
      "Requirement already satisfied: certifi>=2017.4.17 in d:\\anaconda navigator\\lib\\site-packages (from requests->folium) (2023.7.22)\n",
      "Installing collected packages: branca, folium\n",
      "Successfully installed branca-0.6.0 folium-0.14.0\n",
      "Note: you may need to restart the kernel to use updated packages.\n"
     ]
    }
   ],
   "source": [
    "pip install folium"
   ]
  },
  {
   "cell_type": "code",
   "execution_count": 7,
   "id": "258a7460",
   "metadata": {},
   "outputs": [],
   "source": [
    "import pandas as pd\n",
    "import folium\n",
    "from sklearn.cluster import KMeans\n",
    "\n",
    "df = pd.read_csv(\"Dataset.csv\")\n",
    "restaurant_name = df[\"Restaurant Name\"]\n",
    "latitude = df['Latitude']\n",
    "longitude = df['Longitude']"
   ]
  },
  {
   "cell_type": "code",
   "execution_count": 8,
   "id": "ea718272",
   "metadata": {},
   "outputs": [],
   "source": [
    "X= df[[\"Latitude\",'Longitude']]\n",
    "num_clusters = 5\n",
    "       "
   ]
  },
  {
   "cell_type": "code",
   "execution_count": null,
   "id": "aa4af69b",
   "metadata": {},
   "outputs": [],
   "source": []
  }
 ],
 "metadata": {
  "kernelspec": {
   "display_name": "Python 3 (ipykernel)",
   "language": "python",
   "name": "python3"
  },
  "language_info": {
   "codemirror_mode": {
    "name": "ipython",
    "version": 3
   },
   "file_extension": ".py",
   "mimetype": "text/x-python",
   "name": "python",
   "nbconvert_exporter": "python",
   "pygments_lexer": "ipython3",
   "version": "3.11.4"
  }
 },
 "nbformat": 4,
 "nbformat_minor": 5
}
