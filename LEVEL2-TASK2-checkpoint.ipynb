{
 "cells": [
  {
   "cell_type": "code",
   "execution_count": 1,
   "id": "20a65b68",
   "metadata": {},
   "outputs": [],
   "source": [
    "import pandas as pd\n",
    "import matplotlib.pyplot as plt"
   ]
  },
  {
   "cell_type": "code",
   "execution_count": 2,
   "id": "febc3cdc",
   "metadata": {},
   "outputs": [],
   "source": [
    "df = pd.read_csv(\"dataset.csv\")"
   ]
  },
  {
   "cell_type": "code",
   "execution_count": 5,
   "id": "1fe4e037",
   "metadata": {},
   "outputs": [],
   "source": [
    "cuisines = df[\"Cuisines\"]\n",
    "aggregate_ratings = df[\"Aggregate rating\"]"
   ]
  },
  {
   "cell_type": "code",
   "execution_count": 6,
   "id": "35f454fc",
   "metadata": {},
   "outputs": [],
   "source": [
    "cuisine_combination_counts = cuisines.value_counts()"
   ]
  },
  {
   "cell_type": "code",
   "execution_count": 7,
   "id": "33474bbb",
   "metadata": {},
   "outputs": [
    {
     "name": "stdout",
     "output_type": "stream",
     "text": [
      "Most common cuisine combination :\n",
      "North Indian                      936\n",
      "North Indian, Chinese             511\n",
      "Chinese                           354\n",
      "Fast Food                         354\n",
      "North Indian, Mughlai             334\n",
      "Cafe                              299\n",
      "Bakery                            218\n",
      "North Indian, Mughlai, Chinese    197\n",
      "Bakery, Desserts                  170\n",
      "Street Food                       149\n",
      "Name: Cuisines, dtype: int64\n"
     ]
    }
   ],
   "source": [
    "most_commomn_cuisine_combination = cuisine_combination_counts.head(10)\n",
    "print(\"Most common cuisine combination :\")\n",
    "print(most_commomn_cuisine_combination)"
   ]
  },
  {
   "cell_type": "code",
   "execution_count": 9,
   "id": "40b4fa48",
   "metadata": {},
   "outputs": [],
   "source": [
    "cuisine_combination_avg_rating = df.groupby(\"Cuisines\")[\"Aggregate rating\"].mean()"
   ]
  },
  {
   "cell_type": "code",
   "execution_count": null,
   "id": "c401e5ed",
   "metadata": {},
   "outputs": [],
   "source": [
    "top_10_avg_ratings = cuisine_combination_avg_rating.nlargest(10)\n",
    "print(\"Average ratings for the top 10 cuisine combination :\")\n",
    "print(top_10_avg_ratings)"
   ]
  },
  {
   "cell_type": "code",
   "execution_count": null,
   "id": "307e4375",
   "metadata": {},
   "outputs": [],
   "source": []
  }
 ],
 "metadata": {
  "kernelspec": {
   "display_name": "Python 3 (ipykernel)",
   "language": "python",
   "name": "python3"
  },
  "language_info": {
   "codemirror_mode": {
    "name": "ipython",
    "version": 3
   },
   "file_extension": ".py",
   "mimetype": "text/x-python",
   "name": "python",
   "nbconvert_exporter": "python",
   "pygments_lexer": "ipython3",
   "version": "3.10.9"
  }
 },
 "nbformat": 4,
 "nbformat_minor": 5
}
